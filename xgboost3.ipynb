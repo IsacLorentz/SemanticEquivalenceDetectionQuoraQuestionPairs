{
 "cells": [
  {
   "cell_type": "code",
   "execution_count": 1,
   "metadata": {},
   "outputs": [],
   "source": [
    "import pandas as pd\n",
    "import numpy as np\n",
    "import gensim\n",
    "from fuzzywuzzy import fuzz\n",
    "from nltk.corpus import stopwords\n",
    "stopWords = stopwords.words('english')\n",
    "from nltk import word_tokenize\n",
    "from scipy.spatial.distance import cosine, cityblock, euclidean, minkowski\n",
    "from nltk.metrics import jaccard_distance\n",
    "from nltk.metrics import edit_distance\n",
    "import xgboost\n",
    "from sklearn.model_selection import StratifiedKFold\n",
    "from sklearn.model_selection import cross_val_score,cross_validate\n",
    "from sklearn.metrics import make_scorer,precision_score, recall_score, f1_score, accuracy_score\n",
    "from sklearn.model_selection import train_test_split\n",
    "from sklearn.metrics import classification_report,confusion_matrix, accuracy_score \n",
    "import matplotlib.pyplot as plt\n"
   ]
  },
  {
   "cell_type": "code",
   "execution_count": 2,
   "metadata": {},
   "outputs": [
    {
     "name": "stdout",
     "output_type": "stream",
     "text": [
      "['i', 'me', 'my', 'myself', 'we', 'our', 'ours', 'ourselves', 'you', \"you're\", \"you've\", \"you'll\", \"you'd\", 'your', 'yours', 'yourself', 'yourselves', 'he', 'him', 'his', 'himself', 'she', \"she's\", 'her', 'hers', 'herself', 'it', \"it's\", 'its', 'itself', 'they', 'them', 'their', 'theirs', 'themselves', 'what', 'which', 'who', 'whom', 'this', 'that', \"that'll\", 'these', 'those', 'am', 'is', 'are', 'was', 'were', 'be', 'been', 'being', 'have', 'has', 'had', 'having', 'do', 'does', 'did', 'doing', 'a', 'an', 'the', 'and', 'but', 'if', 'or', 'because', 'as', 'until', 'while', 'of', 'at', 'by', 'for', 'with', 'about', 'against', 'between', 'into', 'through', 'during', 'before', 'after', 'above', 'below', 'to', 'from', 'up', 'down', 'in', 'out', 'on', 'off', 'over', 'under', 'again', 'further', 'then', 'once', 'here', 'there', 'when', 'where', 'why', 'how', 'all', 'any', 'both', 'each', 'few', 'more', 'most', 'other', 'some', 'such', 'no', 'nor', 'not', 'only', 'own', 'same', 'so', 'than', 'too', 'very', 's', 't', 'can', 'will', 'just', 'don', \"don't\", 'should', \"should've\", 'now', 'd', 'll', 'm', 'o', 're', 've', 'y', 'ain', 'aren', \"aren't\", 'couldn', \"couldn't\", 'didn', \"didn't\", 'doesn', \"doesn't\", 'hadn', \"hadn't\", 'hasn', \"hasn't\", 'haven', \"haven't\", 'isn', \"isn't\", 'ma', 'mightn', \"mightn't\", 'mustn', \"mustn't\", 'needn', \"needn't\", 'shan', \"shan't\", 'shouldn', \"shouldn't\", 'wasn', \"wasn't\", 'weren', \"weren't\", 'won', \"won't\", 'wouldn', \"wouldn't\"]\n"
     ]
    }
   ],
   "source": [
    "print(stopWords)"
   ]
  },
  {
   "cell_type": "markdown",
   "metadata": {},
   "source": [
    "Inspiration for implementation \n",
    "\n",
    "https://towardsdatascience.com/string-matching-with-fuzzywuzzy-e982c61f8a84\n",
    "\n",
    "https://www.analyticsvidhya.com/blog/2021/07/fuzzy-string-matching-a-hands-on-guide/\n",
    "\n",
    "https://markroxor.github.io/gensim/static/notebooks/WMD_tutorial.html\n",
    "\n",
    "https://towardsdatascience.com/identifying-duplicate-questions-on-quora-top-12-on-kaggle-4c1cf93f1c30\n",
    "\n",
    "https://stackoverflow.com/questions/22129943/how-to-calculate-the-sentence-similarity-using-word2vec-model-of-gensim-with-pyt"
   ]
  },
  {
   "cell_type": "code",
   "execution_count": null,
   "metadata": {},
   "outputs": [],
   "source": [
    "\n",
    "df = pd.read_csv('Data/archive/questions.csv')\n",
    "df = df.dropna(how=\"any\").reset_index(drop=True)\n",
    "mcClass = max(df.is_duplicate.value_counts())\n",
    "print(\"baseline accuracy: \", mcClass / len(df))"
   ]
  },
  {
   "cell_type": "code",
   "execution_count": null,
   "metadata": {},
   "outputs": [],
   "source": [
    "df.drop(['id', 'qid1', 'qid2'], axis=1, inplace=True)"
   ]
  },
  {
   "cell_type": "code",
   "execution_count": null,
   "metadata": {},
   "outputs": [],
   "source": [
    "# make sure questions are strings\n",
    "df['question1'] = df['question1'].apply(str)\n",
    "df['question2'] = df['question2'].apply(str)\n",
    "df['question1'] = df['question1'].str.strip()\n",
    "df['question2'] = df['question2'].str.strip()\n"
   ]
  },
  {
   "cell_type": "code",
   "execution_count": null,
   "metadata": {},
   "outputs": [],
   "source": [
    "\n",
    "# apply basic feature engineering\n",
    "\n",
    "df['Q1Len'] = df.question1.apply(lambda row: len(row))\n",
    "df['Q2Len'] = df.question2.apply(lambda row: len(row))\n",
    "df['LenDiff'] = abs(df.Q1Len - df.Q2Len)\n",
    "df['charCountQ1'] = df.question1.apply(lambda row: len(row.replace(\" \", \"\")))\n",
    "df['charCountQ2'] = df.question2.apply(lambda row: len(row.replace(\" \", \"\")))\n",
    "df['wordCountQ1'] = df.question1.apply(lambda row: len(row.split()))\n",
    "df['wordCountQ2'] = df.question2.apply(lambda row: len(row.split()))\n",
    "df['charCountDifference']=df.apply(lambda row: abs(row['charCountQ1']- row['charCountQ2']),axis=1)\n",
    "df['WordCountDifference']=df.apply(lambda row: abs(row['wordCountQ1'] - row['wordCountQ2']),axis=1)\n",
    "df['sharedWords'] = df.apply(lambda row: len(set(row['question1'].lower().split()).intersection(set(row['question2'].lower().split()))), axis=1)\n",
    "df['fuzzyRatio'] = df.apply(lambda row: fuzz.ratio(row['question1'], row['question2']), axis=1)\n",
    "df['fuzzyPartialRatio'] = df.apply(lambda row: fuzz.partial_ratio(row['question1'], row['question2']), axis=1)\n",
    "df['fuzzyPartialTokenSetRatio'] = df.apply(lambda row: fuzz.partial_token_set_ratio(row['question1'], row['question2']), axis=1)\n",
    "df['fuzzyPartialSokenSortRatio'] = df.apply(lambda row: fuzz.partial_token_sort_ratio(row['question1'], row['question2']), axis=1)\n",
    "df['fuzzyTokenSetRatio'] = df.apply(lambda row: fuzz.token_set_ratio(row['question1'], row['question2']), axis=1)\n",
    "df['fuzzyTokenSortRatio'] = df.apply(lambda row: fuzz.token_sort_ratio(row['question1'], row['question2']), axis=1)\n",
    "df['LastWordSame']=df.apply(lambda row: int(row['question1'].split()[-1] == row['question2'].split()[-1]),axis=1)\n",
    "df['FirstWordSame']=df.apply(lambda row: int(row['question1'].split()[0] == row['question2'].split()[0]),axis=1)\n"
   ]
  },
  {
   "cell_type": "code",
   "execution_count": null,
   "metadata": {},
   "outputs": [],
   "source": [
    "# get part of words that are shared between the questions, jaccard and edit distance\n",
    "def wordSharePart(row):\n",
    "    question1 = set(row['question1'].lower().split())\n",
    "    question2 = set(row['question2'].lower().split())  \n",
    "\n",
    "    return len(question1 & question2)/(len(question1) + len(question2))   \n",
    "df['sharedWordsPart'] = df.apply(wordSharePart, axis=1)\n",
    "\n",
    "def jaccardDistance(row):\n",
    "    question1 = set(row['question1'].lower().split())\n",
    "    question2 = set(row['question2'].lower().split()) \n",
    "    return jaccard_distance(question1, question2)  \n",
    "df['jaccardDistance'] = df.apply(jaccardDistance, axis=1)\n",
    "\n",
    "def editDistance(row):\n",
    "    return edit_distance(row['question1'], row['question2'], substitution_cost=1)\n",
    "df['editDistance'] = df.apply(editDistance, axis=1)"
   ]
  },
  {
   "cell_type": "code",
   "execution_count": null,
   "metadata": {},
   "outputs": [],
   "source": [
    "# get word movers distance for words in the questions that are not in the NLTK stopwords\n",
    "\n",
    "def wmdW2v(question1, question2):\n",
    "    question1 = question1.lower().split()\n",
    "    question2 = question2.lower().split()\n",
    "    question1 = [word for word in question1 if word not in stopWords]\n",
    "    question2 = [word for word in question2 if word not in stopWords]\n",
    "    return w2vModel.wmdistance(question1, question2)\n",
    "\n",
    "def wmdW2vNormed(question1, question2):\n",
    "    question1 = question1.lower().split()\n",
    "    question2 = question2.lower().split()\n",
    "    question1 = [word for word in question1 if word not in stopWords]\n",
    "    question2 = [word for word in question2 if word not in stopWords]\n",
    "    return w2vModelNormed.wmdistance(question1, question2)\n",
    "\n",
    "w2vModel = gensim.models.KeyedVectors.load_word2vec_format('Data/w2v/GoogleNews-vectors-negative300.bin.gz', binary=True)\n",
    "df['wmdW2v'] = df.apply(lambda row: wmdW2v(row['question1'], row['question2']), axis=1)\n",
    "\n",
    "w2vModelNormed = gensim.models.KeyedVectors.load_word2vec_format('Data/w2v/GoogleNews-vectors-negative300.bin.gz', binary=True)\n",
    "w2vModelNormed.init_sims(replace=True)\n",
    "df['wmdW2vNormed'] = df.apply(lambda row: wmdW2vNormed(row['question1'], row['question2']), axis=1)"
   ]
  },
  {
   "cell_type": "code",
   "execution_count": null,
   "metadata": {},
   "outputs": [],
   "source": [
    "from gensim.scripts.glove2word2vec import glove2word2vec\n",
    "\n",
    "def wmdGlove(question1, question2):\n",
    "    question1 = question1.lower().split()\n",
    "    question2 = question2.lower().split()\n",
    "    question1 = [word for word in question1 if word not in stopWords]\n",
    "    question2 = [word for word in question2 if word not in stopWords]\n",
    "    return gloveModel.wmdistance(question1, question2)\n",
    "\n",
    "def wmdGloveNormed(question1, question2):\n",
    "    question1 = question1.lower().split()\n",
    "    question2 = question2.lower().split()\n",
    "    question1 = [word for word in question1 if word not in stopWords]\n",
    "    question2 = [word for word in question2 if word not in stopWords]\n",
    "    return gloveModelNormed.wmdistance(question1, question2)\n",
    "\n",
    "glove_filename = 'Data/glove/glove.6B.300d.txt'\n",
    "word2vec_output_file = glove_filename+'.word2vec'\n",
    "glove2word2vec(glove_filename, word2vec_output_file)\n",
    "word2vec_output_file = glove_filename+'.word2vec'\n",
    "gloveModel = gensim.models.KeyedVectors.load_word2vec_format(word2vec_output_file, binary=False)\n",
    "gloveModelNormed = gensim.models.KeyedVectors.load_word2vec_format(word2vec_output_file, binary=False)\n",
    "gloveModelNormed.init_sims(replace=True) \n",
    "\n",
    "df['wmdGlove'] = df.apply(lambda row: wmdGlove(row['question1'], row['question2']), axis=1)\n",
    "df['wmdGloveNormed'] = df.apply(lambda row: wmdGloveNormed(row['question1'], row['question2']), axis=1)"
   ]
  },
  {
   "cell_type": "code",
   "execution_count": null,
   "metadata": {},
   "outputs": [],
   "source": [
    "# w2v & glove representations of the questions\n",
    "\n",
    "\n",
    "def getw2vEmbedding(s):\n",
    "    words = word_tokenize(s.lower())\n",
    "    words = [word for word in words if not word in stopWords]\n",
    "    words = [word for word in words if word.isalpha()]\n",
    "    vecs = []\n",
    "    for w in words:\n",
    "        try:\n",
    "            vecs.append(w2vModel[w])\n",
    "        except:\n",
    "            continue\n",
    "    vecs = np.array(vecs)\n",
    "    vecs = vecs.sum(axis=0)\n",
    "    vecs = vecs / np.linalg.norm(vecs)\n",
    "    sum = np.sum(vecs)\n",
    "    if np.isnan(sum):\n",
    "        return np.random.randn(300)\n",
    "    else:\n",
    "        return vecs / np.linalg.norm(vecs)\n",
    "\n",
    "\n",
    "def getGloveEmbedding(s):\n",
    "    words = word_tokenize(s.lower())\n",
    "    words = [word for word in words if not word in stopWords]\n",
    "    words = [word for word in words if word.isalpha()]\n",
    "    vecs = []\n",
    "    for w in words:\n",
    "        try:\n",
    "            vecs.append(gloveModel[w])\n",
    "        except:\n",
    "            continue\n",
    "    vecs = np.array(vecs)\n",
    "    vecs = vecs.sum(axis=0)\n",
    "    vecs = vecs / np.linalg.norm(vecs)\n",
    "    sum = np.sum(vecs)\n",
    "    if np.isnan(sum):\n",
    "        return np.random.randn(300)\n",
    "    else:\n",
    "        return vecs / np.linalg.norm(vecs)\n",
    "\n"
   ]
  },
  {
   "cell_type": "code",
   "execution_count": null,
   "metadata": {},
   "outputs": [],
   "source": [
    "question1W2vVecs = np.zeros((df.shape[0], 300))\n",
    "\n",
    "for i, question in enumerate(df.question1.values):\n",
    "    question1W2vVecs[i, :] = getw2vEmbedding(question)\n",
    "    \n",
    "question2W2vVecs  = np.zeros((df.shape[0], 300))\n",
    "for i, question in enumerate(df.question2.values):\n",
    "    question2W2vVecs[i, :] = getw2vEmbedding(question)\n",
    "\n",
    "question1GloveVecs = np.zeros((df.shape[0], 300))\n",
    "\n",
    "for i, question in enumerate(df.question1.values):\n",
    "    question1GloveVecs[i, :] = getGloveEmbedding(question)\n",
    "    \n",
    "question2GloveVecs  = np.zeros((df.shape[0], 300))\n",
    "for i, question in enumerate(df.question2.values):\n",
    "    question2GloveVecs[i, :] = getGloveEmbedding(question)\n",
    "\n",
    "df['cosineDistW2v'] = [cosine(x, y) for (x, y) in zip(question1W2vVecs, question2W2vVecs)]\n",
    "df['cityblockDistW2v'] = [cityblock(x, y) for (x, y) in zip(question1W2vVecs, question2W2vVecs)]\n",
    "df['euclideanDistW2v'] = [euclidean(x, y) for (x, y) in zip(question1W2vVecs, question2W2vVecs)]\n",
    "df['minkowskiDistW2v'] = [minkowski(x, y) for (x, y) in zip(question1W2vVecs, question2W2vVecs)]\n",
    "df['cosineDistGlove'] = [cosine(x, y) for (x, y) in zip(question1GloveVecs, question2GloveVecs)]\n",
    "df['cityblockDistGlove'] = [cityblock(x, y) for (x, y) in zip(question1GloveVecs, question2GloveVecs)]\n",
    "df['euclideanDistGlove'] = [euclidean(x, y) for (x, y) in zip(question1GloveVecs, question2GloveVecs)]\n",
    "df['minkowskiDistGlove'] = [minkowski(x, y) for (x, y) in zip(question1GloveVecs, question2GloveVecs)]"
   ]
  },
  {
   "cell_type": "code",
   "execution_count": null,
   "metadata": {},
   "outputs": [],
   "source": [
    "df.drop(['question1', 'question2'], axis=1, inplace=True)\n"
   ]
  },
  {
   "cell_type": "code",
   "execution_count": null,
   "metadata": {},
   "outputs": [],
   "source": [
    "df.replace([np.inf, -np.inf], np.nan, inplace=True)\n",
    "df.dropna(how='all')"
   ]
  },
  {
   "cell_type": "code",
   "execution_count": null,
   "metadata": {},
   "outputs": [],
   "source": [
    "df.columns.tolist()"
   ]
  },
  {
   "cell_type": "code",
   "execution_count": null,
   "metadata": {},
   "outputs": [],
   "source": [
    "\n",
    "X = df.loc[:, df.columns != 'is_duplicate']\n",
    "y = df.loc[:, df.columns == 'is_duplicate']\n",
    "Y = y.values.ravel()\n",
    "\n",
    "# stratified 10-fold cross validation evaluation of xgboost model\n",
    "\n",
    "scoring = {'accuracy' : make_scorer(accuracy_score), \n",
    "           'precision' : make_scorer(precision_score),\n",
    "           'recall' : make_scorer(recall_score), \n",
    "           'f1' : make_scorer(f1_score)}\n",
    "\n",
    "\n",
    "xgbModel = xgboost.XGBClassifier()\n",
    "kfold = StratifiedKFold(n_splits=10)\n",
    "results = cross_validate(xgbModel, X, Y, cv=kfold,scoring=scoring)\n",
    "\n"
   ]
  },
  {
   "cell_type": "code",
   "execution_count": null,
   "metadata": {},
   "outputs": [],
   "source": [
    "print(results)\n",
    "print('acc: ', np.mean(results['test_accuracy']), np.std(results['test_accuracy']),'prec: ',np.mean(results['test_precision']),np.std(results['test_precision']),'recall: ',np.mean(results['test_recall']),np.std(results['test_recall']),'f1: ',np.mean(results['test_f1']),np.std(results['test_f1']))"
   ]
  },
  {
   "cell_type": "code",
   "execution_count": null,
   "metadata": {},
   "outputs": [],
   "source": [
    "\n",
    "X_train, X_test, y_train, y_test = train_test_split(X, y, test_size=0.3)\n",
    "xgbModel = xgboost.XGBClassifier().fit(X_train, y_train.values.ravel()) \n",
    "pred = xgbModel.predict(X_test)\n",
    "confusionMatrix = confusion_matrix(y_test, pred)  "
   ]
  },
  {
   "cell_type": "code",
   "execution_count": null,
   "metadata": {},
   "outputs": [],
   "source": [
    "print('Test CM: ', confusionMatrix)  \n",
    "print('Accuracy: ', accuracy_score(y_test, pred))\n",
    "print(classification_report(y_test, pred))"
   ]
  },
  {
   "cell_type": "code",
   "execution_count": null,
   "metadata": {},
   "outputs": [],
   "source": [
    "xgboost.plot_importance(xgbModel)\n",
    "plt.figure(figsize = (30, 50))\n",
    "plt.show()"
   ]
  }
 ],
 "metadata": {
  "interpreter": {
   "hash": "6ddb9dbac0997c68cce2c0b23860713199d2409117e703a744d401dfc7e504bb"
  },
  "kernelspec": {
   "display_name": "Python 3.7.13 ('DD2417ProjectNew')",
   "language": "python",
   "name": "python3"
  },
  "language_info": {
   "codemirror_mode": {
    "name": "ipython",
    "version": 3
   },
   "file_extension": ".py",
   "mimetype": "text/x-python",
   "name": "python",
   "nbconvert_exporter": "python",
   "pygments_lexer": "ipython3",
   "version": "3.7.13"
  },
  "orig_nbformat": 4
 },
 "nbformat": 4,
 "nbformat_minor": 2
}
